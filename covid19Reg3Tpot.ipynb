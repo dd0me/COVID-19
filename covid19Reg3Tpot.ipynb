{
  "nbformat": 4,
  "nbformat_minor": 0,
  "metadata": {
    "colab": {
      "name": "covid19Reg3Tpot.ipynb",
      "provenance": [],
      "collapsed_sections": [],
      "authorship_tag": "ABX9TyMN30FpktOH6Ayq/L9Tvii4",
      "include_colab_link": true
    },
    "kernelspec": {
      "name": "python3",
      "display_name": "Python 3"
    },
    "widgets": {
      "application/vnd.jupyter.widget-state+json": {
        "d8831e26416340b89cf1cbda57cfc665": {
          "model_module": "@jupyter-widgets/controls",
          "model_name": "HBoxModel",
          "state": {
            "_view_name": "HBoxView",
            "_dom_classes": [],
            "_model_name": "HBoxModel",
            "_view_module": "@jupyter-widgets/controls",
            "_model_module_version": "1.5.0",
            "_view_count": null,
            "_view_module_version": "1.5.0",
            "box_style": "",
            "layout": "IPY_MODEL_fba89cf5f20f4f85a76935d50712eaf0",
            "_model_module": "@jupyter-widgets/controls",
            "children": [
              "IPY_MODEL_20141d76fa054f589b76cf91b16b1840",
              "IPY_MODEL_c1ed56a81a2444c287a8e5713413b148"
            ]
          }
        },
        "fba89cf5f20f4f85a76935d50712eaf0": {
          "model_module": "@jupyter-widgets/base",
          "model_name": "LayoutModel",
          "state": {
            "_view_name": "LayoutView",
            "grid_template_rows": null,
            "right": null,
            "justify_content": null,
            "_view_module": "@jupyter-widgets/base",
            "overflow": null,
            "_model_module_version": "1.2.0",
            "_view_count": null,
            "flex_flow": null,
            "width": null,
            "min_width": null,
            "border": null,
            "align_items": null,
            "bottom": null,
            "_model_module": "@jupyter-widgets/base",
            "top": null,
            "grid_column": null,
            "overflow_y": null,
            "overflow_x": null,
            "grid_auto_flow": null,
            "grid_area": null,
            "grid_template_columns": null,
            "flex": null,
            "_model_name": "LayoutModel",
            "justify_items": null,
            "grid_row": null,
            "max_height": null,
            "align_content": null,
            "visibility": null,
            "align_self": null,
            "height": null,
            "min_height": null,
            "padding": null,
            "grid_auto_rows": null,
            "grid_gap": null,
            "max_width": null,
            "order": null,
            "_view_module_version": "1.2.0",
            "grid_template_areas": null,
            "object_position": null,
            "object_fit": null,
            "grid_auto_columns": null,
            "margin": null,
            "display": null,
            "left": null
          }
        },
        "20141d76fa054f589b76cf91b16b1840": {
          "model_module": "@jupyter-widgets/controls",
          "model_name": "FloatProgressModel",
          "state": {
            "_view_name": "ProgressView",
            "style": "IPY_MODEL_0a95e6bb8732414bafb25293c6fcfbb3",
            "_dom_classes": [],
            "description": "Optimization Progress:  88%",
            "_model_name": "FloatProgressModel",
            "bar_style": "danger",
            "max": 100,
            "_view_module": "@jupyter-widgets/controls",
            "_model_module_version": "1.5.0",
            "value": 100,
            "_view_count": null,
            "_view_module_version": "1.5.0",
            "orientation": "horizontal",
            "min": 0,
            "description_tooltip": null,
            "_model_module": "@jupyter-widgets/controls",
            "layout": "IPY_MODEL_29a929c9a0c0408987dfc3e2d20b2f15"
          }
        },
        "c1ed56a81a2444c287a8e5713413b148": {
          "model_module": "@jupyter-widgets/controls",
          "model_name": "HTMLModel",
          "state": {
            "_view_name": "HTMLView",
            "style": "IPY_MODEL_e6551aa506e84c8aa860fbb302d65d40",
            "_dom_classes": [],
            "description": "",
            "_model_name": "HTMLModel",
            "placeholder": "​",
            "_view_module": "@jupyter-widgets/controls",
            "_model_module_version": "1.5.0",
            "value": " 616/700 [2:01:21&lt;35:33, 25.39s/pipeline]",
            "_view_count": null,
            "_view_module_version": "1.5.0",
            "description_tooltip": null,
            "_model_module": "@jupyter-widgets/controls",
            "layout": "IPY_MODEL_d79bf36541de4962be66daad743fe925"
          }
        },
        "0a95e6bb8732414bafb25293c6fcfbb3": {
          "model_module": "@jupyter-widgets/controls",
          "model_name": "ProgressStyleModel",
          "state": {
            "_view_name": "StyleView",
            "_model_name": "ProgressStyleModel",
            "description_width": "initial",
            "_view_module": "@jupyter-widgets/base",
            "_model_module_version": "1.5.0",
            "_view_count": null,
            "_view_module_version": "1.2.0",
            "bar_color": null,
            "_model_module": "@jupyter-widgets/controls"
          }
        },
        "29a929c9a0c0408987dfc3e2d20b2f15": {
          "model_module": "@jupyter-widgets/base",
          "model_name": "LayoutModel",
          "state": {
            "_view_name": "LayoutView",
            "grid_template_rows": null,
            "right": null,
            "justify_content": null,
            "_view_module": "@jupyter-widgets/base",
            "overflow": null,
            "_model_module_version": "1.2.0",
            "_view_count": null,
            "flex_flow": null,
            "width": null,
            "min_width": null,
            "border": null,
            "align_items": null,
            "bottom": null,
            "_model_module": "@jupyter-widgets/base",
            "top": null,
            "grid_column": null,
            "overflow_y": null,
            "overflow_x": null,
            "grid_auto_flow": null,
            "grid_area": null,
            "grid_template_columns": null,
            "flex": null,
            "_model_name": "LayoutModel",
            "justify_items": null,
            "grid_row": null,
            "max_height": null,
            "align_content": null,
            "visibility": null,
            "align_self": null,
            "height": null,
            "min_height": null,
            "padding": null,
            "grid_auto_rows": null,
            "grid_gap": null,
            "max_width": null,
            "order": null,
            "_view_module_version": "1.2.0",
            "grid_template_areas": null,
            "object_position": null,
            "object_fit": null,
            "grid_auto_columns": null,
            "margin": null,
            "display": null,
            "left": null
          }
        },
        "e6551aa506e84c8aa860fbb302d65d40": {
          "model_module": "@jupyter-widgets/controls",
          "model_name": "DescriptionStyleModel",
          "state": {
            "_view_name": "StyleView",
            "_model_name": "DescriptionStyleModel",
            "description_width": "",
            "_view_module": "@jupyter-widgets/base",
            "_model_module_version": "1.5.0",
            "_view_count": null,
            "_view_module_version": "1.2.0",
            "_model_module": "@jupyter-widgets/controls"
          }
        },
        "d79bf36541de4962be66daad743fe925": {
          "model_module": "@jupyter-widgets/base",
          "model_name": "LayoutModel",
          "state": {
            "_view_name": "LayoutView",
            "grid_template_rows": null,
            "right": null,
            "justify_content": null,
            "_view_module": "@jupyter-widgets/base",
            "overflow": null,
            "_model_module_version": "1.2.0",
            "_view_count": null,
            "flex_flow": null,
            "width": null,
            "min_width": null,
            "border": null,
            "align_items": null,
            "bottom": null,
            "_model_module": "@jupyter-widgets/base",
            "top": null,
            "grid_column": null,
            "overflow_y": null,
            "overflow_x": null,
            "grid_auto_flow": null,
            "grid_area": null,
            "grid_template_columns": null,
            "flex": null,
            "_model_name": "LayoutModel",
            "justify_items": null,
            "grid_row": null,
            "max_height": null,
            "align_content": null,
            "visibility": null,
            "align_self": null,
            "height": null,
            "min_height": null,
            "padding": null,
            "grid_auto_rows": null,
            "grid_gap": null,
            "max_width": null,
            "order": null,
            "_view_module_version": "1.2.0",
            "grid_template_areas": null,
            "object_position": null,
            "object_fit": null,
            "grid_auto_columns": null,
            "margin": null,
            "display": null,
            "left": null
          }
        }
      }
    }
  },
  "cells": [
    {
      "cell_type": "markdown",
      "metadata": {
        "id": "view-in-github",
        "colab_type": "text"
      },
      "source": [
        "<a href=\"https://colab.research.google.com/github/dd0me/COVID-19/blob/master/covid19Reg3Tpot.ipynb\" target=\"_parent\"><img src=\"https://colab.research.google.com/assets/colab-badge.svg\" alt=\"Open In Colab\"/></a>"
      ]
    },
    {
      "cell_type": "code",
      "metadata": {
        "id": "EgdFPxxTuws-",
        "colab_type": "code",
        "colab": {
          "base_uri": "https://localhost:8080/",
          "height": 600
        },
        "outputId": "675b4be5-9659-458f-d37c-854174438baa"
      },
      "source": [
        "!pip install tpot"
      ],
      "execution_count": 2,
      "outputs": [
        {
          "output_type": "stream",
          "text": [
            "Collecting tpot\n",
            "\u001b[?25l  Downloading https://files.pythonhosted.org/packages/14/5e/cb87b0257033a7a396e533a634079ee151a239d180efe2a8b1d2e3584d23/TPOT-0.11.5-py3-none-any.whl (82kB)\n",
            "\r\u001b[K     |████                            | 10kB 14.4MB/s eta 0:00:01\r\u001b[K     |████████                        | 20kB 1.7MB/s eta 0:00:01\r\u001b[K     |████████████                    | 30kB 2.2MB/s eta 0:00:01\r\u001b[K     |████████████████                | 40kB 2.5MB/s eta 0:00:01\r\u001b[K     |████████████████████            | 51kB 2.0MB/s eta 0:00:01\r\u001b[K     |████████████████████████        | 61kB 2.3MB/s eta 0:00:01\r\u001b[K     |████████████████████████████    | 71kB 2.5MB/s eta 0:00:01\r\u001b[K     |███████████████████████████████▉| 81kB 2.7MB/s eta 0:00:01\r\u001b[K     |████████████████████████████████| 92kB 2.4MB/s \n",
            "\u001b[?25hRequirement already satisfied: tqdm>=4.36.1 in /usr/local/lib/python3.6/dist-packages (from tpot) (4.41.1)\n",
            "Requirement already satisfied: scikit-learn>=0.22.0 in /usr/local/lib/python3.6/dist-packages (from tpot) (0.22.2.post1)\n",
            "Collecting stopit>=1.1.1\n",
            "  Downloading https://files.pythonhosted.org/packages/35/58/e8bb0b0fb05baf07bbac1450c447d753da65f9701f551dca79823ce15d50/stopit-1.1.2.tar.gz\n",
            "Requirement already satisfied: joblib>=0.13.2 in /usr/local/lib/python3.6/dist-packages (from tpot) (0.16.0)\n",
            "Requirement already satisfied: pandas>=0.24.2 in /usr/local/lib/python3.6/dist-packages (from tpot) (1.0.5)\n",
            "Requirement already satisfied: scipy>=1.3.1 in /usr/local/lib/python3.6/dist-packages (from tpot) (1.4.1)\n",
            "Requirement already satisfied: numpy>=1.16.3 in /usr/local/lib/python3.6/dist-packages (from tpot) (1.18.5)\n",
            "Collecting deap>=1.2\n",
            "\u001b[?25l  Downloading https://files.pythonhosted.org/packages/0a/eb/2bd0a32e3ce757fb26264765abbaedd6d4d3640d90219a513aeabd08ee2b/deap-1.3.1-cp36-cp36m-manylinux2010_x86_64.whl (157kB)\n",
            "\u001b[K     |████████████████████████████████| 163kB 8.3MB/s \n",
            "\u001b[?25hCollecting update-checker>=0.16\n",
            "  Downloading https://files.pythonhosted.org/packages/0c/ba/8dd7fa5f0b1c6a8ac62f8f57f7e794160c1f86f31c6d0fb00f582372a3e4/update_checker-0.18.0-py3-none-any.whl\n",
            "Requirement already satisfied: python-dateutil>=2.6.1 in /usr/local/lib/python3.6/dist-packages (from pandas>=0.24.2->tpot) (2.8.1)\n",
            "Requirement already satisfied: pytz>=2017.2 in /usr/local/lib/python3.6/dist-packages (from pandas>=0.24.2->tpot) (2018.9)\n",
            "Requirement already satisfied: requests>=2.3.0 in /usr/local/lib/python3.6/dist-packages (from update-checker>=0.16->tpot) (2.23.0)\n",
            "Requirement already satisfied: six>=1.5 in /usr/local/lib/python3.6/dist-packages (from python-dateutil>=2.6.1->pandas>=0.24.2->tpot) (1.15.0)\n",
            "Requirement already satisfied: idna<3,>=2.5 in /usr/local/lib/python3.6/dist-packages (from requests>=2.3.0->update-checker>=0.16->tpot) (2.10)\n",
            "Requirement already satisfied: chardet<4,>=3.0.2 in /usr/local/lib/python3.6/dist-packages (from requests>=2.3.0->update-checker>=0.16->tpot) (3.0.4)\n",
            "Requirement already satisfied: certifi>=2017.4.17 in /usr/local/lib/python3.6/dist-packages (from requests>=2.3.0->update-checker>=0.16->tpot) (2020.6.20)\n",
            "Requirement already satisfied: urllib3!=1.25.0,!=1.25.1,<1.26,>=1.21.1 in /usr/local/lib/python3.6/dist-packages (from requests>=2.3.0->update-checker>=0.16->tpot) (1.24.3)\n",
            "Building wheels for collected packages: stopit\n",
            "  Building wheel for stopit (setup.py) ... \u001b[?25l\u001b[?25hdone\n",
            "  Created wheel for stopit: filename=stopit-1.1.2-cp36-none-any.whl size=11956 sha256=257bc248a6280fc13c1e90ebd0a598a659c41285d5ef6f1facae92dbfd8c555f\n",
            "  Stored in directory: /root/.cache/pip/wheels/3c/85/2b/2580190404636bfc63e8de3dff629c03bb795021e1983a6cc7\n",
            "Successfully built stopit\n",
            "Installing collected packages: stopit, deap, update-checker, tpot\n",
            "Successfully installed deap-1.3.1 stopit-1.1.2 tpot-0.11.5 update-checker-0.18.0\n"
          ],
          "name": "stdout"
        }
      ]
    },
    {
      "cell_type": "code",
      "metadata": {
        "id": "KZHwOzOXu3vO",
        "colab_type": "code",
        "colab": {}
      },
      "source": [
        "# pandas and numpy for data manipulation\n",
        "import pandas as pd\n",
        "import numpy as np\n",
        "from sklearn import preprocessing\n",
        "from sklearn.preprocessing import Normalizer\n",
        "from sklearn.preprocessing import Binarizer\n",
        "from sklearn.decomposition import PCA\n",
        "\n",
        "# Import the tpot regressor\n",
        "from tpot import TPOTRegressor\n",
        "import sklearn.model_selection as model_selection\n",
        "from sklearn.model_selection import train_test_split"
      ],
      "execution_count": 53,
      "outputs": []
    },
    {
      "cell_type": "code",
      "metadata": {
        "id": "Ujf0brWyyA4w",
        "colab_type": "code",
        "colab": {}
      },
      "source": [
        "data=pd.read_csv(\"https://covid19.who.int/WHO-COVID-19-global-data.csv\")"
      ],
      "execution_count": 222,
      "outputs": []
    },
    {
      "cell_type": "code",
      "metadata": {
        "id": "3CAYh8604ej3",
        "colab_type": "code",
        "colab": {
          "base_uri": "https://localhost:8080/",
          "height": 181
        },
        "outputId": "6fb2673c-6b32-4a95-8db8-ceef4623015d"
      },
      "source": [
        "data.dtypes"
      ],
      "execution_count": 189,
      "outputs": [
        {
          "output_type": "execute_result",
          "data": {
            "text/plain": [
              "Date_reported         object\n",
              " Country_code         object\n",
              " Country              object\n",
              " WHO_region           object\n",
              " New_cases             int64\n",
              " Cumulative_cases      int64\n",
              " New_deaths            int64\n",
              " Cumulative_deaths     int64\n",
              "dtype: object"
            ]
          },
          "metadata": {
            "tags": []
          },
          "execution_count": 189
        }
      ]
    },
    {
      "cell_type": "code",
      "metadata": {
        "id": "xhCRY3V64Oh5",
        "colab_type": "code",
        "colab": {}
      },
      "source": [
        "data=data.replace(0, np.nan)\n",
        "data = data.replace(r'<^\\s+$0', np.nan, regex=True)"
      ],
      "execution_count": 190,
      "outputs": []
    },
    {
      "cell_type": "code",
      "metadata": {
        "id": "MRQtmXY4y7LW",
        "colab_type": "code",
        "colab": {
          "base_uri": "https://localhost:8080/",
          "height": 206
        },
        "outputId": "77c70164-0125-425c-b2b6-41b409a7971a"
      },
      "source": [
        "data.sample(5)"
      ],
      "execution_count": 223,
      "outputs": [
        {
          "output_type": "execute_result",
          "data": {
            "text/html": [
              "<div>\n",
              "<style scoped>\n",
              "    .dataframe tbody tr th:only-of-type {\n",
              "        vertical-align: middle;\n",
              "    }\n",
              "\n",
              "    .dataframe tbody tr th {\n",
              "        vertical-align: top;\n",
              "    }\n",
              "\n",
              "    .dataframe thead th {\n",
              "        text-align: right;\n",
              "    }\n",
              "</style>\n",
              "<table border=\"1\" class=\"dataframe\">\n",
              "  <thead>\n",
              "    <tr style=\"text-align: right;\">\n",
              "      <th></th>\n",
              "      <th>Date_reported</th>\n",
              "      <th>Country_code</th>\n",
              "      <th>Country</th>\n",
              "      <th>WHO_region</th>\n",
              "      <th>New_cases</th>\n",
              "      <th>Cumulative_cases</th>\n",
              "      <th>New_deaths</th>\n",
              "      <th>Cumulative_deaths</th>\n",
              "    </tr>\n",
              "  </thead>\n",
              "  <tbody>\n",
              "    <tr>\n",
              "      <th>17812</th>\n",
              "      <td>2020-04-04</td>\n",
              "      <td>IM</td>\n",
              "      <td>Isle of Man</td>\n",
              "      <td>EURO</td>\n",
              "      <td>43</td>\n",
              "      <td>114</td>\n",
              "      <td>0</td>\n",
              "      <td>1</td>\n",
              "    </tr>\n",
              "    <tr>\n",
              "      <th>32734</th>\n",
              "      <td>2020-03-19</td>\n",
              "      <td>SG</td>\n",
              "      <td>Singapore</td>\n",
              "      <td>WPRO</td>\n",
              "      <td>28</td>\n",
              "      <td>345</td>\n",
              "      <td>0</td>\n",
              "      <td>0</td>\n",
              "    </tr>\n",
              "    <tr>\n",
              "      <th>21446</th>\n",
              "      <td>2020-04-04</td>\n",
              "      <td>LU</td>\n",
              "      <td>Luxembourg</td>\n",
              "      <td>EURO</td>\n",
              "      <td>125</td>\n",
              "      <td>2612</td>\n",
              "      <td>1</td>\n",
              "      <td>31</td>\n",
              "    </tr>\n",
              "    <tr>\n",
              "      <th>32347</th>\n",
              "      <td>2020-09-02</td>\n",
              "      <td>RS</td>\n",
              "      <td>Serbia</td>\n",
              "      <td>EURO</td>\n",
              "      <td>76</td>\n",
              "      <td>31482</td>\n",
              "      <td>2</td>\n",
              "      <td>715</td>\n",
              "    </tr>\n",
              "    <tr>\n",
              "      <th>16123</th>\n",
              "      <td>2020-04-16</td>\n",
              "      <td>VA</td>\n",
              "      <td>Holy See</td>\n",
              "      <td>EURO</td>\n",
              "      <td>0</td>\n",
              "      <td>8</td>\n",
              "      <td>0</td>\n",
              "      <td>0</td>\n",
              "    </tr>\n",
              "  </tbody>\n",
              "</table>\n",
              "</div>"
            ],
            "text/plain": [
              "      Date_reported  Country_code  ...  New_deaths  Cumulative_deaths\n",
              "17812    2020-04-04            IM  ...           0                  1\n",
              "32734    2020-03-19            SG  ...           0                  0\n",
              "21446    2020-04-04            LU  ...           1                 31\n",
              "32347    2020-09-02            RS  ...           2                715\n",
              "16123    2020-04-16            VA  ...           0                  0\n",
              "\n",
              "[5 rows x 8 columns]"
            ]
          },
          "metadata": {
            "tags": []
          },
          "execution_count": 223
        }
      ]
    },
    {
      "cell_type": "code",
      "metadata": {
        "id": "85obgIh-JXVd",
        "colab_type": "code",
        "colab": {
          "base_uri": "https://localhost:8080/",
          "height": 72
        },
        "outputId": "d298310b-a480-4d3a-8deb-15001ed05630"
      },
      "source": [
        "data.columns"
      ],
      "execution_count": 192,
      "outputs": [
        {
          "output_type": "execute_result",
          "data": {
            "text/plain": [
              "Index(['Date_reported', ' Country_code', ' Country', ' WHO_region',\n",
              "       ' New_cases', ' Cumulative_cases', ' New_deaths', ' Cumulative_deaths'],\n",
              "      dtype='object')"
            ]
          },
          "metadata": {
            "tags": []
          },
          "execution_count": 192
        }
      ]
    },
    {
      "cell_type": "code",
      "metadata": {
        "id": "6RfUw7OcIO8h",
        "colab_type": "code",
        "colab": {}
      },
      "source": [
        "#data=data.loc[:,['Date_reported','New_cases', 'Cumulative_cases','Cumulative_deaths','New_deaths']]\n",
        "#data=data.loc['R6':'R10', 'C':'E']\n",
        "data2=data.iloc[:,[0,4,5,7,6]]\n",
        "data=data2\n",
        "\n"
      ],
      "execution_count": 224,
      "outputs": []
    },
    {
      "cell_type": "code",
      "metadata": {
        "id": "xc0_DttEWVNy",
        "colab_type": "code",
        "colab": {}
      },
      "source": [
        "data3=data.loc[(data!=0).any(1)]\n",
        "data=data3"
      ],
      "execution_count": 225,
      "outputs": []
    },
    {
      "cell_type": "code",
      "metadata": {
        "id": "QtWJfp1ZUR5N",
        "colab_type": "code",
        "colab": {
          "base_uri": "https://localhost:8080/",
          "height": 35
        },
        "outputId": "581ed1a5-9f1d-4f1b-810f-4fbe4124f4e3"
      },
      "source": [
        "type(data)"
      ],
      "execution_count": 195,
      "outputs": [
        {
          "output_type": "execute_result",
          "data": {
            "text/plain": [
              "pandas.core.frame.DataFrame"
            ]
          },
          "metadata": {
            "tags": []
          },
          "execution_count": 195
        }
      ]
    },
    {
      "cell_type": "code",
      "metadata": {
        "id": "aHY4UcX5y9aZ",
        "colab_type": "code",
        "colab": {}
      },
      "source": [
        "train, test = train_test_split(data, test_size=0.25, random_state=42, shuffle=True)\n"
      ],
      "execution_count": 226,
      "outputs": []
    },
    {
      "cell_type": "code",
      "metadata": {
        "id": "WlFRxSCIzHQ8",
        "colab_type": "code",
        "colab": {
          "base_uri": "https://localhost:8080/",
          "height": 35
        },
        "outputId": "599b5639-43e6-458e-8fde-2c2ba591e9df"
      },
      "source": [
        "train.shape"
      ],
      "execution_count": 227,
      "outputs": [
        {
          "output_type": "execute_result",
          "data": {
            "text/plain": [
              "(29492, 5)"
            ]
          },
          "metadata": {
            "tags": []
          },
          "execution_count": 227
        }
      ]
    },
    {
      "cell_type": "code",
      "metadata": {
        "id": "e7_cjxr5zL55",
        "colab_type": "code",
        "colab": {
          "base_uri": "https://localhost:8080/",
          "height": 35
        },
        "outputId": "629ea279-f2d3-4589-9b2f-aac65daa5f7d"
      },
      "source": [
        "test.shape"
      ],
      "execution_count": 228,
      "outputs": [
        {
          "output_type": "execute_result",
          "data": {
            "text/plain": [
              "(9831, 5)"
            ]
          },
          "metadata": {
            "tags": []
          },
          "execution_count": 228
        }
      ]
    },
    {
      "cell_type": "code",
      "metadata": {
        "id": "fMs78uXzXGtn",
        "colab_type": "code",
        "colab": {
          "base_uri": "https://localhost:8080/",
          "height": 72
        },
        "outputId": "d9f328d6-10e2-46c4-f78c-8b8865fe9c48"
      },
      "source": [
        "data.columns"
      ],
      "execution_count": 229,
      "outputs": [
        {
          "output_type": "execute_result",
          "data": {
            "text/plain": [
              "Index(['Date_reported', ' New_cases', ' Cumulative_cases',\n",
              "       ' Cumulative_deaths', ' New_deaths'],\n",
              "      dtype='object')"
            ]
          },
          "metadata": {
            "tags": []
          },
          "execution_count": 229
        }
      ]
    },
    {
      "cell_type": "code",
      "metadata": {
        "id": "yY08oW_ozmNN",
        "colab_type": "code",
        "colab": {}
      },
      "source": [
        "X_train=train.iloc[:, 1:4] \n",
        "X_test=test.iloc[:, 1:4]\n",
        "Y_train=train.iloc[:,-1] \n",
        "Y_test=test.iloc[:,-1]"
      ],
      "execution_count": 230,
      "outputs": []
    },
    {
      "cell_type": "code",
      "metadata": {
        "id": "HiMTV7zgzxmk",
        "colab_type": "code",
        "colab": {
          "base_uri": "https://localhost:8080/",
          "height": 206
        },
        "outputId": "de62f006-b4ce-4034-8908-b8f9d2a02297"
      },
      "source": [
        "X_train.sample(5)"
      ],
      "execution_count": 231,
      "outputs": [
        {
          "output_type": "execute_result",
          "data": {
            "text/html": [
              "<div>\n",
              "<style scoped>\n",
              "    .dataframe tbody tr th:only-of-type {\n",
              "        vertical-align: middle;\n",
              "    }\n",
              "\n",
              "    .dataframe tbody tr th {\n",
              "        vertical-align: top;\n",
              "    }\n",
              "\n",
              "    .dataframe thead th {\n",
              "        text-align: right;\n",
              "    }\n",
              "</style>\n",
              "<table border=\"1\" class=\"dataframe\">\n",
              "  <thead>\n",
              "    <tr style=\"text-align: right;\">\n",
              "      <th></th>\n",
              "      <th>New_cases</th>\n",
              "      <th>Cumulative_cases</th>\n",
              "      <th>Cumulative_deaths</th>\n",
              "    </tr>\n",
              "  </thead>\n",
              "  <tbody>\n",
              "    <tr>\n",
              "      <th>9368</th>\n",
              "      <td>53</td>\n",
              "      <td>13115</td>\n",
              "      <td>352</td>\n",
              "    </tr>\n",
              "    <tr>\n",
              "      <th>32907</th>\n",
              "      <td>0</td>\n",
              "      <td>5</td>\n",
              "      <td>0</td>\n",
              "    </tr>\n",
              "    <tr>\n",
              "      <th>9119</th>\n",
              "      <td>1</td>\n",
              "      <td>892</td>\n",
              "      <td>15</td>\n",
              "    </tr>\n",
              "    <tr>\n",
              "      <th>9304</th>\n",
              "      <td>46</td>\n",
              "      <td>8077</td>\n",
              "      <td>273</td>\n",
              "    </tr>\n",
              "    <tr>\n",
              "      <th>30141</th>\n",
              "      <td>8599</td>\n",
              "      <td>344481</td>\n",
              "      <td>3541</td>\n",
              "    </tr>\n",
              "  </tbody>\n",
              "</table>\n",
              "</div>"
            ],
            "text/plain": [
              "        New_cases   Cumulative_cases   Cumulative_deaths\n",
              "9368           53              13115                 352\n",
              "32907           0                  5                   0\n",
              "9119            1                892                  15\n",
              "9304           46               8077                 273\n",
              "30141        8599             344481                3541"
            ]
          },
          "metadata": {
            "tags": []
          },
          "execution_count": 231
        }
      ]
    },
    {
      "cell_type": "code",
      "metadata": {
        "id": "K5yTKmvl0B4U",
        "colab_type": "code",
        "colab": {}
      },
      "source": [
        "# pandas and numpy for data manipulation\n",
        "import pandas as pd\n",
        "import numpy as np\n",
        "\n",
        "# Import the tpot regressor\n",
        "from tpot import TPOTRegressor"
      ],
      "execution_count": 232,
      "outputs": []
    },
    {
      "cell_type": "code",
      "metadata": {
        "id": "aKzznf9s0GFu",
        "colab_type": "code",
        "colab": {}
      },
      "source": [
        "# Convert to numpy arrays\n",
        "training_features = np.array(X_train)\n",
        "testing_features = np.array(X_test)\n",
        "\n",
        "# Sklearn wants the labels as one-dimensional vectors\n",
        "training_targets = np.array(Y_train).reshape((-1,))\n",
        "testing_targets = np.array(Y_test).reshape((-1,))"
      ],
      "execution_count": 234,
      "outputs": []
    },
    {
      "cell_type": "code",
      "metadata": {
        "id": "V1FFRxDP0Hrh",
        "colab_type": "code",
        "colab": {}
      },
      "source": [
        "# Create a tpot object with a few parameters\n",
        "tpot = TPOTRegressor(scoring = 'neg_mean_absolute_error', \n",
        "                    max_time_mins = 120, \n",
        "                    n_jobs = -1,\n",
        "                    verbosity = 2,\n",
        "                    cv = 5)"
      ],
      "execution_count": 235,
      "outputs": []
    },
    {
      "cell_type": "code",
      "metadata": {
        "id": "iCNYdBbb0X0N",
        "colab_type": "code",
        "colab": {
          "base_uri": "https://localhost:8080/",
          "height": 487,
          "referenced_widgets": [
            "d8831e26416340b89cf1cbda57cfc665",
            "fba89cf5f20f4f85a76935d50712eaf0",
            "20141d76fa054f589b76cf91b16b1840",
            "c1ed56a81a2444c287a8e5713413b148",
            "0a95e6bb8732414bafb25293c6fcfbb3",
            "29a929c9a0c0408987dfc3e2d20b2f15",
            "e6551aa506e84c8aa860fbb302d65d40",
            "d79bf36541de4962be66daad743fe925"
          ]
        },
        "outputId": "eed2f859-3dac-4bd9-b37e-3d81e78b97a6"
      },
      "source": [
        "# Fit the tpot model on the training data\n",
        "tpot.fit(training_features, training_targets)"
      ],
      "execution_count": 236,
      "outputs": [
        {
          "output_type": "display_data",
          "data": {
            "application/vnd.jupyter.widget-view+json": {
              "model_id": "d8831e26416340b89cf1cbda57cfc665",
              "version_minor": 0,
              "version_major": 2
            },
            "text/plain": [
              "HBox(children=(FloatProgress(value=0.0, description='Optimization Progress', style=ProgressStyle(description_w…"
            ]
          },
          "metadata": {
            "tags": []
          }
        },
        {
          "output_type": "stream",
          "text": [
            "\n",
            "Generation 1 - Current best internal CV score: -7.840256456104756\n",
            "Generation 2 - Current best internal CV score: -7.557381794201449\n",
            "Generation 3 - Current best internal CV score: -7.460104541040596\n",
            "Generation 4 - Current best internal CV score: -7.092978954750189\n",
            "Generation 5 - Current best internal CV score: -7.092978954750189\n",
            "121.45 minutes have elapsed. TPOT will close down.\n",
            "TPOT closed during evaluation in one generation.\n",
            "WARNING: TPOT may not provide a good pipeline if TPOT is stopped/interrupted in a early generation.\n",
            "\n",
            "\n",
            "TPOT closed prematurely. Will use the current best pipeline.\n",
            "\n",
            "Best pipeline: GradientBoostingRegressor(input_matrix, alpha=0.8, learning_rate=0.1, loss=huber, max_depth=10, max_features=0.7500000000000001, min_samples_leaf=5, min_samples_split=5, n_estimators=100, subsample=0.5)\n"
          ],
          "name": "stdout"
        },
        {
          "output_type": "execute_result",
          "data": {
            "text/plain": [
              "TPOTRegressor(config_dict=None, crossover_rate=0.1, cv=5,\n",
              "              disable_update_check=False, early_stop=None, generations=100,\n",
              "              log_file=<ipykernel.iostream.OutStream object at 0x7f41ea324d68>,\n",
              "              max_eval_time_mins=5, max_time_mins=120, memory=None,\n",
              "              mutation_rate=0.9, n_jobs=-1, offspring_size=None,\n",
              "              periodic_checkpoint_folder=None, population_size=100,\n",
              "              random_state=None, scoring='neg_mean_absolute_error',\n",
              "              subsample=1.0, template=None, use_dask=False, verbosity=2,\n",
              "              warm_start=False)"
            ]
          },
          "metadata": {
            "tags": []
          },
          "execution_count": 236
        }
      ]
    }
  ]
}